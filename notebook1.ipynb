{
 "cells": [
  {
   "cell_type": "code",
   "execution_count": null,
   "metadata": {},
   "outputs": [],
   "source": [
    "import numpy as np\n",
    "import pandas as pd\n",
    "from sklearn.feature_selection import chi2\n",
    "%matplotlib notebook"
   ]
  },
  {
   "cell_type": "code",
   "execution_count": null,
   "metadata": {},
   "outputs": [],
   "source": [
    "from data_parser import load_features_names, load_all_files, load_data"
   ]
  },
  {
   "cell_type": "code",
   "execution_count": null,
   "metadata": {},
   "outputs": [],
   "source": [
    "from data_parser import load_features_names, load_all_files, load_data, load_diseases_names\n",
    "from data_summary import show_distribution"
   ]
  },
  {
   "cell_type": "code",
   "execution_count": null,
   "metadata": {},
   "outputs": [],
   "source": [
    "datasets = load_all_files()\n",
    "features_names = load_features_names()\n",
    "diseases_names = load_diseases_names()"
   ]
  },
  {
   "cell_type": "code",
   "execution_count": null,
   "metadata": {},
   "outputs": [],
   "source": [
    "data = load_data(datasets)\n",
    "data.print_classes_strength()\n",
    "\n",
    "show_distribution(datasets, features_names)"
   ]
  },
  {
   "cell_type": "code",
   "execution_count": null,
   "metadata": {},
   "outputs": [],
   "source": [
    "features = np.concatenate([*datasets])\n",
    "classes = np.concatenate(\n",
    "    [np.full(dataset.shape[0], diseases_names[index]) for (index, dataset) in enumerate(datasets)])"
   ]
  },
  {
   "cell_type": "code",
   "execution_count": null,
   "metadata": {},
   "outputs": [],
   "source": [
    "scores, p_values = chi2(features, classes)"
   ]
  },
  {
   "cell_type": "code",
   "execution_count": null,
   "metadata": {},
   "outputs": [],
   "source": [
    "features_with_score_values = pd.concat(\n",
    "    [pd.DataFrame(features_names, columns=['Features']), pd.DataFrame(scores, columns=['Scores']),\n",
    "     pd.DataFrame(p_values, columns=['P_values'])], axis=1)\n",
    "features_with_score_values.index += 1  # To match with feature's number\n",
    "\n",
    "print(features_with_score_values.sort_values('Scores', ascending=False).round(3))"
   ]
  },
  {
   "cell_type": "code",
   "execution_count": null,
   "metadata": {},
   "outputs": [],
   "source": [
    "alpha = 0.05\n",
    "for index, row in features_with_score_values.iterrows():\n",
    "    p_value = row['P_values']\n",
    "    if p_value > alpha:\n",
    "        features_with_score_values.drop(index, inplace=True)\n",
    "        \n",
    "print(features_with_score_values.sort_values('Scores', ascending=False).round(3))"
   ]
  }
 ],
 "metadata": {
  "kernelspec": {
   "display_name": "Python 3",
   "language": "python",
   "name": "python3"
  },
  "language_info": {
   "codemirror_mode": {
    "name": "ipython",
    "version": 3
   },
   "file_extension": ".py",
   "mimetype": "text/x-python",
   "name": "python",
   "nbconvert_exporter": "python",
   "pygments_lexer": "ipython3",
   "version": "3.8.6"
  }
 },
 "nbformat": 4,
 "nbformat_minor": 4
}

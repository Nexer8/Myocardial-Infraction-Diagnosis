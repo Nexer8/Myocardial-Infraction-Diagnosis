{
 "cells": [
  {
   "cell_type": "code",
   "execution_count": null,
   "metadata": {},
   "outputs": [],
   "source": [
    "import numpy as np\n",
    "import pandas as pd\n",
    "from sklearn.feature_selection import chi2"
   ]
  },
  {
   "cell_type": "code",
   "execution_count": null,
   "metadata": {},
   "outputs": [],
   "source": [
    "from data_parser import load_features_names, load_all_files, load_data"
   ]
  },
  {
   "cell_type": "code",
   "execution_count": null,
   "metadata": {},
   "outputs": [],
   "source": [
    "datasets = load_all_files()\n",
    "features_names = load_features_names()\n",
    "\n",
    "data = load_data(datasets)\n",
    "\n",
    "# To print\n",
    "print(len(data.angina_prectoris_prinzmetal_variant))\n",
    "print(len(data.angina_prectoris))\n",
    "print(len(data.myocardial_infraction_subendocardial))\n",
    "\n",
    "features = np.concatenate([*datasets])\n",
    "y = np.concatenate([np.full(dataset.shape[0], index) for (index, dataset) in enumerate(datasets)])\n",
    "print(len(y))\n",
    "\n",
    "scores, shape = chi2(features, y)\n",
    "\n",
    "features_with_score_values = pd.concat(\n",
    "    [pd.DataFrame(features_names, columns=['Features']), pd.DataFrame(scores, columns=['Scores'])], axis=1)\n",
    "features_with_score_values.index += 1  # To match with feature's number\n",
    "print(features_with_score_values.sort_values('Scores', ascending=False))"
   ]
  },
  {
   "cell_type": "code",
   "execution_count": null,
   "metadata": {},
   "outputs": [],
   "source": []
  }
 ],
 "metadata": {
  "kernelspec": {
   "display_name": "Python 3",
   "language": "python",
   "name": "python3"
  },
  "language_info": {
   "codemirror_mode": {
    "name": "ipython",
    "version": 3
   },
   "file_extension": ".py",
   "mimetype": "text/x-python",
   "name": "python",
   "nbconvert_exporter": "python",
   "pygments_lexer": "ipython3",
   "version": "3.8.6"
  }
 },
 "nbformat": 4,
 "nbformat_minor": 4
}
